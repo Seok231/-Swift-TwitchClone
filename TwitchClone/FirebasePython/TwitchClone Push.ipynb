{
 "cells": [
  {
   "cell_type": "code",
   "execution_count": 1,
   "id": "be1abd07",
   "metadata": {},
   "outputs": [
    {
     "data": {
      "text/plain": [
       "'/Users/yys_mac/yys/xcode/TwitchClone/FirebasePython'"
      ]
     },
     "execution_count": 1,
     "metadata": {},
     "output_type": "execute_result"
    }
   ],
   "source": [
    "pwd"
   ]
  },
  {
   "cell_type": "code",
   "execution_count": 2,
   "id": "db00f0ab",
   "metadata": {},
   "outputs": [],
   "source": [
    "import firebase_admin\n",
    "from firebase_admin import credentials\n",
    "from firebase_admin import db\n",
    "from firebase_admin import storage\n",
    "from firebase_admin import messaging"
   ]
  },
  {
   "cell_type": "code",
   "execution_count": 3,
   "id": "bc243af8",
   "metadata": {},
   "outputs": [],
   "source": [
    "cred = credentials.Certificate('TwitchClonePythonKey.json')"
   ]
  },
  {
   "cell_type": "code",
   "execution_count": 4,
   "id": "aa71c1fd",
   "metadata": {},
   "outputs": [
    {
     "data": {
      "text/plain": [
       "<firebase_admin.App at 0x107a751f0>"
      ]
     },
     "execution_count": 4,
     "metadata": {},
     "output_type": "execute_result"
    }
   ],
   "source": [
    "firebase_admin.initialize_app(cred,{\n",
    "    'databaseURL' : 'https://twitchclone-e0b4d-default-rtdb.firebaseio.com/',\\\n",
    "    'storageBucket': 'gs://twitchclone-e0b4d.appspot.com'\n",
    "    })"
   ]
  },
  {
   "cell_type": "code",
   "execution_count": 5,
   "id": "ed366806",
   "metadata": {},
   "outputs": [
    {
     "data": {
      "text/plain": [
       "<firebase_admin.messaging.BatchResponse at 0x105482880>"
      ]
     },
     "execution_count": 5,
     "metadata": {},
     "output_type": "execute_result"
    }
   ],
   "source": [
    "\n",
    "iPhone12 = \"eX0WzoQk0knduwYSP1DQRA:APA91bHbi1tOx_VEmDD1WzfZyaiFvn5KFebIqS64Jhq6G1SKbvTit-6ioGGoUFsTY3FOk1XFhZPQ9gItRmKtdKR4NLW3VG7twii2Vwfp8r1uye1dYUiO5R4t5BFE-HYdTlcgYKuZX9dy\"\n",
    "iPhone13 = \"eQ1ks7GDgEnVpdFOtPNMCF:APA91bHF94Z5pn_vTXcjBV-AyuoEVzo64AzZfG9nLmeNqPfYCS5TLjNHkkr0II-gS8Z3_rJr4ISFI_NDexOKNiL2bKaD-XEzb1msioqdz_VtqynIIClohGOsS8Nsj387jcrqEwXegw8E\"\n",
    "phone = [iPhone12, iPhone13]\n",
    "message = messaging.MulticastMessage(\n",
    "    notification=messaging.Notification(\n",
    "        title='안녕하세요 타이틀 입니다',\n",
    "        body='안녕하세요 메세지 입니다',\n",
    "    ),\n",
    "    tokens = phone,\n",
    ")\n",
    "messaging.send_multicast(message)\n"
   ]
  },
  {
   "cell_type": "code",
   "execution_count": 36,
   "id": "c2087ed4",
   "metadata": {},
   "outputs": [
    {
     "ename": "NameError",
     "evalue": "name 'db_fn' is not defined",
     "output_type": "error",
     "traceback": [
      "\u001b[0;31m---------------------------------------------------------------------------\u001b[0m",
      "\u001b[0;31mNameError\u001b[0m                                 Traceback (most recent call last)",
      "Input \u001b[0;32mIn [36]\u001b[0m, in \u001b[0;36m<cell line: 1>\u001b[0;34m()\u001b[0m\n\u001b[0;32m----> 1\u001b[0m \u001b[38;5;129m@db_fn\u001b[39m\u001b[38;5;241m.\u001b[39mon_value_created(reference\u001b[38;5;241m=\u001b[39m\u001b[38;5;124m\"\u001b[39m\u001b[38;5;124m/messages/\u001b[39m\u001b[38;5;132;01m{pushId}\u001b[39;00m\u001b[38;5;124m/original\u001b[39m\u001b[38;5;124m\"\u001b[39m)\n\u001b[1;32m      2\u001b[0m \u001b[38;5;28;01mdef\u001b[39;00m \u001b[38;5;21mmakeuppercase\u001b[39m(event: db_fn\u001b[38;5;241m.\u001b[39mEvent[Any]) \u001b[38;5;241m-\u001b[39m\u001b[38;5;241m>\u001b[39m \u001b[38;5;28;01mNone\u001b[39;00m:\n\u001b[1;32m      3\u001b[0m     \u001b[38;5;124;03m\"\"\"Listens for new messages added to /messages/{pushId}/original and\u001b[39;00m\n\u001b[1;32m      4\u001b[0m \u001b[38;5;124;03m    creates an uppercase version of the message to /messages/{pushId}/uppercase\u001b[39;00m\n\u001b[1;32m      5\u001b[0m \u001b[38;5;124;03m    \"\"\"\u001b[39;00m\n\u001b[1;32m      7\u001b[0m     \u001b[38;5;66;03m# Grab the value that was written to the Realtime Database.\u001b[39;00m\n",
      "\u001b[0;31mNameError\u001b[0m: name 'db_fn' is not defined"
     ]
    }
   ],
   "source": [
    "@db_fn.on_value_created(reference=\"/messages/{pushId}/original\")\n",
    "def makeuppercase(event: db_fn.Event[Any]) -> None:\n",
    "    \"\"\"Listens for new messages added to /messages/{pushId}/original and\n",
    "    creates an uppercase version of the message to /messages/{pushId}/uppercase\n",
    "    \"\"\"\n",
    "\n",
    "    # Grab the value that was written to the Realtime Database.\n",
    "    original = event.data\n",
    "    if not isinstance(original, str):\n",
    "        print(f\"Not a string: {event.reference}\")\n",
    "        return\n",
    "\n",
    "    # Use the Admin SDK to set an \"uppercase\" sibling.\n",
    "    print(f\"Uppercasing {event.params['pushId']}: {original}\")\n",
    "    upper = original.upper()\n",
    "    parent = db.reference(event.reference).parent\n",
    "    if parent is None:\n",
    "        print(\"Message can't be root node.\")\n",
    "        return\n",
    "    parent.child(\"uppercase\").set(upper)\n",
    "\n"
   ]
  },
  {
   "cell_type": "code",
   "execution_count": 34,
   "id": "6bd415df",
   "metadata": {},
   "outputs": [],
   "source": [
    "def iosEvent(event):\n",
    "    \n",
    "    iPhone12 = \"eX0WzoQk0knduwYSP1DQRA:APA91bHbi1tOx_VEmDD1WzfZyaiFvn5KFebIqS64Jhq6G1SKbvTit-6ioGGoUFsTY3FOk1XFhZPQ9gItRmKtdKR4NLW3VG7twii2Vwfp8r1uye1dYUiO5R4t5BFE-HYdTlcgYKuZX9dy\"\n",
    "    iPhone13 = \"eQ1ks7GDgEnVpdFOtPNMCF:APA91bHF94Z5pn_vTXcjBV-AyuoEVzo64AzZfG9nLmeNqPfYCS5TLjNHkkr0II-gS8Z3_rJr4ISFI_NDexOKNiL2bKaD-XEzb1msioqdz_VtqynIIClohGOsS8Nsj387jcrqEwXegw8E\"\n",
    "    test = [iPhone12, iPhone13]\n",
    "    count = 1\n",
    "    if count > 0:\n",
    "        title_set = \"TestTitle\"\n",
    "        body_set = ('TestBody')\n",
    "        message = messaging.MulticastMessage(\n",
    "            notification=messaging.Notification(\n",
    "                title= title_set,\n",
    "                body= body_set,\n",
    "            ), \n",
    "            tokens=test,\n",
    "        )\n",
    "        messaging.send_multicast(message)\n",
    "        count += 1\n",
    "\n",
    "           # path = database_path \n",
    "           # child = path + \"usersToken/\"\n",
    "            #ref = db.reference(child)\n",
    "            #data = ref.get()\n",
    "            #data_values = data.values()\n",
    "            #list_data_values = list(data_values)\n",
    "            #print(list_data_values)\n",
    "            #'''\n"
   ]
  },
  {
   "cell_type": "code",
   "execution_count": 35,
   "id": "f471b2b0",
   "metadata": {},
   "outputs": [],
   "source": [
    "ref2 = db.reference('FirstTree/LiveList/').listen(iosEvent)"
   ]
  },
  {
   "cell_type": "code",
   "execution_count": 37,
   "id": "49080bdb",
   "metadata": {},
   "outputs": [
    {
     "ename": "ModuleNotFoundError",
     "evalue": "No module named 'firebase_functions'",
     "output_type": "error",
     "traceback": [
      "\u001b[0;31m---------------------------------------------------------------------------\u001b[0m",
      "\u001b[0;31mModuleNotFoundError\u001b[0m                       Traceback (most recent call last)",
      "Input \u001b[0;32mIn [37]\u001b[0m, in \u001b[0;36m<cell line: 2>\u001b[0;34m()\u001b[0m\n\u001b[1;32m      1\u001b[0m \u001b[38;5;66;03m# The Cloud Functions for Firebase SDK to create Cloud Functions and set up triggers.\u001b[39;00m\n\u001b[0;32m----> 2\u001b[0m \u001b[38;5;28;01mfrom\u001b[39;00m \u001b[38;5;21;01mfirebase_functions\u001b[39;00m \u001b[38;5;28;01mimport\u001b[39;00m db_fn, https_fn\n\u001b[1;32m      4\u001b[0m \u001b[38;5;66;03m# The Firebase Admin SDK to access the Firebase Realtime Database.\u001b[39;00m\n\u001b[1;32m      5\u001b[0m \u001b[38;5;28;01mfrom\u001b[39;00m \u001b[38;5;21;01mfirebase_admin\u001b[39;00m \u001b[38;5;28;01mimport\u001b[39;00m initialize_app, db\n",
      "\u001b[0;31mModuleNotFoundError\u001b[0m: No module named 'firebase_functions'"
     ]
    }
   ],
   "source": [
    "# The Cloud Functions for Firebase SDK to create Cloud Functions and set up triggers.\n",
    "from firebase_functions import db_fn, https_fn\n",
    "\n",
    "# The Firebase Admin SDK to access the Firebase Realtime Database.\n",
    "from firebase_admin import initialize_app, db\n",
    "\n",
    "app = initialize_app()"
   ]
  },
  {
   "cell_type": "code",
   "execution_count": 8,
   "id": "ab53292f",
   "metadata": {},
   "outputs": [
    {
     "name": "stdout",
     "output_type": "stream",
     "text": [
      "\u001b[31mERROR: Ignored the following versions that require a different python version: 0.0.1rc0 Requires-Python >=3.10; 0.1.0 Requires-Python >=3.10; 0.1.0rc0 Requires-Python >=3.10; 0.1.1 Requires-Python >=3.10; 0.1.2 Requires-Python >=3.10\u001b[0m\u001b[31m\n",
      "\u001b[0m\u001b[31mERROR: Could not find a version that satisfies the requirement firebase_functions (from versions: none)\u001b[0m\u001b[31m\n",
      "\u001b[0m\u001b[31mERROR: No matching distribution found for firebase_functions\u001b[0m\u001b[31m\n",
      "\u001b[0mNote: you may need to restart the kernel to use updated packages.\n"
     ]
    }
   ],
   "source": [
    "pip install firebase_functions"
   ]
  },
  {
   "cell_type": "code",
   "execution_count": null,
   "id": "9c0fd628",
   "metadata": {},
   "outputs": [],
   "source": []
  }
 ],
 "metadata": {
  "kernelspec": {
   "display_name": "Python 3 (ipykernel)",
   "language": "python",
   "name": "python3"
  },
  "language_info": {
   "codemirror_mode": {
    "name": "ipython",
    "version": 3
   },
   "file_extension": ".py",
   "mimetype": "text/x-python",
   "name": "python",
   "nbconvert_exporter": "python",
   "pygments_lexer": "ipython3",
   "version": "3.9.13"
  }
 },
 "nbformat": 4,
 "nbformat_minor": 5
}
